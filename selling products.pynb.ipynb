{
  "nbformat": 4,
  "nbformat_minor": 0,
  "metadata": {
    "colab": {
      "name": "Untitled1.ipynb",
      "provenance": [],
      "collapsed_sections": []
    },
    "kernelspec": {
      "name": "python3",
      "display_name": "Python 3"
    },
    "language_info": {
      "name": "python"
    }
  },
  "cells": [
    {
      "cell_type": "code",
      "metadata": {
        "id": "x7t6zfRuMfzI"
      },
      "source": [
        "products = {\n",
        "    1001 : {\"name\":\"Betty Croker Pancake\",    \"price\":346,  \"quan\":190, \"expiry\":\"15 jan 2022\",  \"brand\":\"Betty Croker\"},\n",
        "    1002 : {\"name\":\"Parle G Original\",        \"price\":67,   \"quan\":140, \"expiry\":\"13 dec 2011\",  \"brand\":\"Parle\"},\n",
        "    1003 : {\"name\":\"Lays Potato Chips\",       \"price\":30,   \"quan\":450, \"expiry\":\"14 feb 2023\",  \"brand\":\"Lay's\"},\n",
        "    1004 : {\"name\":\"Bingo! Mad Angle\",        \"price\":25,   \"quan\":440, \"expiry\":\"20 dec 2023\",  \"brand\":\"Bingo!\"},\n",
        "    1005 : {\"name\":\"Kellogg's pringles\",      \"price\":85,   \"quan\":400, \"expiry\":\"25 jan 2024\",  \"brand\":\"Kellog's\"},\n",
        "    1006 : {\"name\":\"Dorito's Nacho Chips\",    \"price\":90,   \"quan\":360, \"expiry\":\"22 jan 2023\",  \"brand\":\"Dorito's\"},\n",
        "    1007 : {\"name\":\"Kitkat Desert\",           \"price\":55,   \"quan\":59,  \"expiry\":\"31 aug 2022\",  \"brand\":\"Nestle\"},\n",
        "    1008 : {\"name\":\"Dark Fantasy Choco Fills\",\"price\":90,   \"quan\":90,  \"expiry\":\"21 feb 2022\",  \"brand\":\"Dark Fantasy\"},\n",
        "    1009 : {\"name\":\"Candyman Fantasy\",        \"price\":80,   \"quan\":95,  \"expiry\":\"28 dec 2021\",  \"brand\":\"Candyman Fantastik\"},\n",
        "    1010 : {\"name\":\"Lotte Choco Pie\",         \"price\":110,  \"quan\":95,  \"expiry\":\"01 jun 2022\",  \"brand\":\"Lotte\"},\n",
        "    1011 : {\"name\":\"Britania Chocolate cake\", \"price\":120,  \"quan\":100, \"expiry\":\"15 jul 2022\",  \"brand\":\"Britania\"},\n",
        "    1012 : {\"name\":\"Pillsbury cookes cake\",   \"price\":90,   \"quan\":200, \"expiry\":\"02 dec 2021\",  \"brand\":\"Pillsbury\"},\n",
        "    1013 : {\"name\":\"Dabur Amla Hair Oil\",     \"price\":247,  \"quan\":100, \"expiry\":\"10 aug 2024\",  \"brand\":\"DABUR\"},\n",
        "    1014 : {\"name\":\"Nivea Men Face Wash\",     \"price\":149,  \"quan\":98,  \"expiry\":\"31 jul 2022\",  \"brand\":\"Nivea\"},\n",
        "    1015 : {\"name\":\"Himalaya herbal face wash\",  \"price\":105,   \"quan\":200, \"expiry\":\"22 feb 2022\",  \"brand\":\"himalaya\"},\n",
        "    1016 : {\"name\":\"Pepsi Can\",               \"price\":153,  \"quan\":50,  \"expiry\":\"20 oct 2023\",  \"brand\":\"Pepsi\"},\n",
        "    1017 : {\"name\":\"Tata Salt\",               \"price\":20,   \"quan\":130, \"expiry\":\"12 jan 2022\",  \"brand\":\"Tata\"},\n",
        "    1018 : {\"name\":\"Tata Tea Gold\",           \"price\":48,   \"quan\":145, \"expiry\":\"10 mar 2023\",  \"brand\":\"Tata\"},\n",
        "    1019 : {\"name\":\"Turmeric Powder\",         \"price\":52,   \"quan\":122, \"expiry\":\"23 jun 2023\",  \"brand\":\"Tata\"},\n",
        "    1020 : {\"name\":\"Quaker Oats\",             \"price\":285,  \"quan\":30,  \"expiry\":\"30 oct 2022\",  \"brand\":\"Quaker\"},\n",
        "    1021 : {\"name\":\"Saffola Active\",          \"price\":207,  \"quan\":58,  \"expiry\":\"29 jan 2022\",  \"brand\":\"Saffola\"},\n",
        "    1022 : {\"name\":\"Thums Up Soft Drink\",     \"price\":40,   \"quan\":60,  \"expiry\":\"20 dec 2024\",  \"brand\":\"Thums Up\"},\n",
        "    1023 : {\"name\":\"Svami Soda Water\",        \"price\":55,   \"quan\":70,  \"expiry\":\"20 jun 2023\",  \"brand\":\"Svami\"},\n",
        "    1024 : {\"name\":\"Coca-Cola\",               \"price\":65,   \"quan\":60,  \"expiry\":\"22 jul 2023\",  \"brand\":\"Coca Cola\"},\n",
        "    1025 : {\"name\":\"Sprite Lime Flavor\",      \"price\":89,   \"quan\":40,  \"expiry\":\"20 nov 2023\",  \"brand\":\"Sprite\"},\n",
        "    1026 : {\"name\":\"Colgate Maxfresh\",        \"price\":215,  \"quan\":55,  \"expiry\":\"20 jun 2024\",  \"brand\":\"Colgate\"},\n",
        "    1027 : {\"name\":\"Pepsodent Gum Care\",      \"price\":300,  \"quan\":150, \"expiry\":\"15 jul 2022\",  \"brand\":\"Pepsodent\"},\n",
        "    1028 : {\"name\":\"Kraft Oreo Soft Cake\",    \"price\":249,  \"quan\":120, \"expiry\":\"30 dec 2021\",  \"brand\":\"Ore0\"},\n",
        "    1029 : {\"name\":\"Mom's Magic Cashew\",      \"price\":80,   \"quan\":180, \"expiry\":\"19 mar 2022\",  \"brand\":\"Sunfeast\"},\n",
        "    1030 : {\"name\":\"cadbury oreo chocolate\",\"price\":80, \"quan\":185, \"expiry\":\"22 jan 2022\",  \"brand\":\"cadbury\"},\n",
        "    1031 : {\"name\":\"Himalaya Baby Powder\",    \"price\":243,  \"quan\":150, \"expiry\":\"31 may 2024\",  \"brand\":\"Himalaya\"},\n",
        "    1032 : {\"name\":\"Nivea Talcum Powder\",     \"price\":199,  \"quan\":120, \"expiry\":\"31 may 2024\",  \"brand\":\"Nivea\"},\n",
        "    1033 : {\"name\":\"Fogg Xtremo Scent\",       \"price\":299,  \"quan\":155, \"expiry\":\"01 jan 2024\",  \"brand\":\"FOGG\"},\n",
        "    1034 : {\"name\":\"Villain Perfume men\",     \"price\":555,  \"quan\":230, \"expiry\":\"31 may 2024\",  \"brand\":\"Villian\"},\n",
        "    1035 : {\"name\":\"Dairy Milk Silk\",         \"price\":475,  \"quan\":50,  \"expiry\":\"31 jan 2022\",  \"brand\":\"Cadbury\"}\n",
        "}\n"
      ],
      "execution_count": null,
      "outputs": []
    },
    {
      "cell_type": "code",
      "metadata": {
        "colab": {
          "base_uri": "https://localhost:8080/",
          "height": 464
        },
        "id": "GMXXpkwEB_bx",
        "outputId": "1c1682ef-2b0f-452b-b538-aab01c79ace7"
      },
      "source": [
        "\n",
        "import json\n",
        "\n",
        "fd = open(\"products.json\",'r')\n",
        "r = fd.read()\n",
        "fd.close()\n",
        "\n",
        "products = json.loads(r)\n",
        "\n",
        "\n",
        "\n",
        "print(\"Welcome to shop\")\n",
        "\n",
        "\n",
        "ui_prod = input(\"Enter the product Id: \")\n",
        "ui_quan = int(input(\"Enter the quantity of the Product: \"))\n",
        "\n",
        "for i in products.keys():\n",
        "    while ui_prod == i:\n",
        "        if ui_quan <= products[i]['quan']:\n",
        "            print(\"****************************************\")\n",
        "            print(\"             product:\",products[ui_prod]['name'])\n",
        "            print(\"               price:\",products[ui_prod]['price'])\n",
        "            print(\"         Expiry date:\",products[ui_prod]['expiry'])\n",
        "            print(\" Manufacturing Brand:\",products[ui_prod]['brand'])\n",
        "            print(\"****************************************\")\n",
        "            print(\"----------BILLING DETAILS:---------- \")\n",
        "            print(\"Total Amount: \",products[ui_prod]['price']*ui_quan) \n",
        "            print(\"Enjoy Your Day\")\n",
        "            print(\"Thank You. Visit Again\")\n",
        "            print(\"**********************************\")\n",
        "            products[ui_prod][\"quan\"] = products[ui_prod][\"quan\"] - ui_quan\n",
        "        else:\n",
        "            print(\"Sorry. Stock of product you enterd is: \",products[ui_prod]['quan'],\"\\nPlease accept our apologies for this inconvenience\")\n",
        "        break\n",
        "if ui_prod not in products.keys():\n",
        "   print(\"Sorry. No product found for ID: \",ui_prod,\"\\Please enter valid product ID\")\n",
        "    \n",
        "    \n",
        "js = json.dumps(products)\n",
        "\n",
        "fd = open(\"products.json\",'w')\n",
        "fd.write(js)\n",
        "fd.close()\n",
        "\n",
        "## The sold items information is stored on sales.json\n",
        "fd = open(\"sales.json\",'r')\n",
        "trans = fd.read()\n",
        "fd.close()\n",
        "\n",
        "sales = json.loads(trans)\n",
        "num = len(sales)+1\n",
        "\n",
        "sales[num] = {'prod':ui_prod, 'quan' : ui_quan, 'amount': products[ui_prod]['price'] * ui_quan}\n",
        "sale = json.dumps(sales)\n",
        "\n",
        "fd = open(\"sales.json\",'w')\n",
        "fd.write(sale)\n",
        "fd.close()"
      ],
      "execution_count": 41,
      "outputs": [
        {
          "output_type": "stream",
          "name": "stdout",
          "text": [
            "Welcome to shop\n",
            "Enter the product Id: 1006\n",
            "Enter the quantity of the Product: 3\n",
            "****************************************\n",
            "             product: Dorito's Nacho Chips\n",
            "               price: 90\n",
            "         Expiry date: 22 jan 2023\n",
            " Manufacturing Brand: Dorito's\n",
            "****************************************\n",
            "----------BILLING DETAILS:---------- \n",
            "Total Amount:  270\n",
            "Enjoy Your Day\n",
            "Thank You. Visit Again\n",
            "**********************************\n"
          ]
        },
        {
          "output_type": "error",
          "ename": "FileNotFoundError",
          "evalue": "ignored",
          "traceback": [
            "\u001b[0;31m---------------------------------------------------------------------------\u001b[0m",
            "\u001b[0;31mFileNotFoundError\u001b[0m                         Traceback (most recent call last)",
            "\u001b[0;32m<ipython-input-41-00fbf2b0c1b0>\u001b[0m in \u001b[0;36m<module>\u001b[0;34m()\u001b[0m\n\u001b[1;32m     45\u001b[0m \u001b[0;34m\u001b[0m\u001b[0m\n\u001b[1;32m     46\u001b[0m \u001b[0;31m## The sold items information is stored on sales.json\u001b[0m\u001b[0;34m\u001b[0m\u001b[0;34m\u001b[0m\u001b[0;34m\u001b[0m\u001b[0m\n\u001b[0;32m---> 47\u001b[0;31m \u001b[0mfd\u001b[0m \u001b[0;34m=\u001b[0m \u001b[0mopen\u001b[0m\u001b[0;34m(\u001b[0m\u001b[0;34m\"sales.json\"\u001b[0m\u001b[0;34m,\u001b[0m\u001b[0;34m'r'\u001b[0m\u001b[0;34m)\u001b[0m\u001b[0;34m\u001b[0m\u001b[0;34m\u001b[0m\u001b[0m\n\u001b[0m\u001b[1;32m     48\u001b[0m \u001b[0mtrans\u001b[0m \u001b[0;34m=\u001b[0m \u001b[0mfd\u001b[0m\u001b[0;34m.\u001b[0m\u001b[0mread\u001b[0m\u001b[0;34m(\u001b[0m\u001b[0;34m)\u001b[0m\u001b[0;34m\u001b[0m\u001b[0;34m\u001b[0m\u001b[0m\n\u001b[1;32m     49\u001b[0m \u001b[0mfd\u001b[0m\u001b[0;34m.\u001b[0m\u001b[0mclose\u001b[0m\u001b[0;34m(\u001b[0m\u001b[0;34m)\u001b[0m\u001b[0;34m\u001b[0m\u001b[0;34m\u001b[0m\u001b[0m\n",
            "\u001b[0;31mFileNotFoundError\u001b[0m: [Errno 2] No such file or directory: 'sales.json'"
          ]
        }
      ]
    },
    {
      "cell_type": "code",
      "metadata": {
        "id": "XiLc9hhYMkiX"
      },
      "source": [
        "import json"
      ],
      "execution_count": null,
      "outputs": []
    },
    {
      "cell_type": "code",
      "metadata": {
        "id": "k-2dAQgqM2Lg"
      },
      "source": [
        "js = json.dumps(products)"
      ],
      "execution_count": null,
      "outputs": []
    },
    {
      "cell_type": "code",
      "metadata": {
        "id": "mMC8fc6vNJDu"
      },
      "source": [
        "fd = open(\"products.json\",\"w\")\n",
        "fd.write(js)\n",
        "fd.close()"
      ],
      "execution_count": null,
      "outputs": []
    },
    {
      "cell_type": "markdown",
      "metadata": {
        "id": "IAYcG9eaNP28"
      },
      "source": [
        "READ DATA FROM **JSON**"
      ]
    },
    {
      "cell_type": "code",
      "metadata": {
        "id": "0LG3bzx-NVrG"
      },
      "source": [
        "fd = open(\"products.json\",'r')\n",
        "\n",
        "r = fd.read()\n",
        "\n",
        "fd.close()"
      ],
      "execution_count": null,
      "outputs": []
    },
    {
      "cell_type": "code",
      "metadata": {
        "id": "kyhysa3iNf36"
      },
      "source": [
        "products = json.loads(r)"
      ],
      "execution_count": null,
      "outputs": []
    },
    {
      "cell_type": "code",
      "metadata": {
        "colab": {
          "base_uri": "https://localhost:8080/"
        },
        "id": "Phbu9YX4NnvH",
        "outputId": "06adb064-cafb-48c6-8d2a-9a76ec30ca8b"
      },
      "source": [
        "products"
      ],
      "execution_count": null,
      "outputs": [
        {
          "output_type": "execute_result",
          "data": {
            "text/plain": [
              "{'1001': {'brand': 'Betty Croker',\n",
              "  'expiry': '15 jan 2022',\n",
              "  'name': 'Betty Croker Pancake',\n",
              "  'price': 346,\n",
              "  'quan': 190},\n",
              " '1002': {'brand': 'Parle',\n",
              "  'expiry': '13 dec 2011',\n",
              "  'name': 'Parle G Original',\n",
              "  'price': 67,\n",
              "  'quan': 140},\n",
              " '1003': {'brand': \"Lay's\",\n",
              "  'expiry': '14 feb 2023',\n",
              "  'name': 'Lays Potato Chips',\n",
              "  'price': 30,\n",
              "  'quan': 450},\n",
              " '1004': {'brand': 'Bingo!',\n",
              "  'expiry': '20 dec 2023',\n",
              "  'name': 'Bingo! Mad Angle',\n",
              "  'price': 25,\n",
              "  'quan': 440},\n",
              " '1005': {'brand': \"Kellog's\",\n",
              "  'expiry': '25 jan 2024',\n",
              "  'name': \"Kellogg's pringles\",\n",
              "  'price': 85,\n",
              "  'quan': 400},\n",
              " '1006': {'brand': \"Dorito's\",\n",
              "  'expiry': '22 jan 2023',\n",
              "  'name': \"Dorito's Nacho Chips\",\n",
              "  'price': 90,\n",
              "  'quan': 360},\n",
              " '1007': {'brand': 'Nestle',\n",
              "  'expiry': '31 aug 2022',\n",
              "  'name': 'Kitkat Desert',\n",
              "  'price': 55,\n",
              "  'quan': 59},\n",
              " '1008': {'brand': 'Dark Fantasy',\n",
              "  'expiry': '21 feb 2022',\n",
              "  'name': 'Dark Fantasy Choco Fills',\n",
              "  'price': 90,\n",
              "  'quan': 90},\n",
              " '1009': {'brand': 'Candyman Fantastik',\n",
              "  'expiry': '28 dec 2021',\n",
              "  'name': 'Candyman Fantasy',\n",
              "  'price': 80,\n",
              "  'quan': 95},\n",
              " '1010': {'brand': 'Lotte',\n",
              "  'expiry': '01 jun 2022',\n",
              "  'name': 'Lotte Choco Pie',\n",
              "  'price': 110,\n",
              "  'quan': 95},\n",
              " '1011': {'brand': 'Britania',\n",
              "  'expiry': '15 jul 2022',\n",
              "  'name': 'Britania Chocolate cake',\n",
              "  'price': 120,\n",
              "  'quan': 100},\n",
              " '1012': {'brand': 'Pillsbury',\n",
              "  'expiry': '02 dec 2021',\n",
              "  'name': 'Pillsbury cookes cake',\n",
              "  'price': 90,\n",
              "  'quan': 200},\n",
              " '1013': {'brand': 'DABUR',\n",
              "  'expiry': '10 aug 2024',\n",
              "  'name': 'Dabur Amla Hair Oil',\n",
              "  'price': 247,\n",
              "  'quan': 100},\n",
              " '1014': {'brand': 'Nivea',\n",
              "  'expiry': '31 jul 2022',\n",
              "  'name': 'Nivea Men Face Wash',\n",
              "  'price': 149,\n",
              "  'quan': 98},\n",
              " '1015': {'brand': 'himalaya',\n",
              "  'expiry': '22 feb 2022',\n",
              "  'name': 'Himalaya herbal face wash',\n",
              "  'price': 105,\n",
              "  'quan': 200},\n",
              " '1016': {'brand': 'Pepsi',\n",
              "  'expiry': '20 oct 2023',\n",
              "  'name': 'Pepsi Can',\n",
              "  'price': 153,\n",
              "  'quan': 50},\n",
              " '1017': {'brand': 'Tata',\n",
              "  'expiry': '12 jan 2022',\n",
              "  'name': 'Tata Salt',\n",
              "  'price': 20,\n",
              "  'quan': 130},\n",
              " '1018': {'brand': 'Tata',\n",
              "  'expiry': '10 mar 2023',\n",
              "  'name': 'Tata Tea Gold',\n",
              "  'price': 48,\n",
              "  'quan': 145},\n",
              " '1019': {'brand': 'Tata',\n",
              "  'expiry': '23 jun 2023',\n",
              "  'name': 'Turmeric Powder',\n",
              "  'price': 52,\n",
              "  'quan': 122},\n",
              " '1020': {'brand': 'Quaker',\n",
              "  'expiry': '30 oct 2022',\n",
              "  'name': 'Quaker Oats',\n",
              "  'price': 285,\n",
              "  'quan': 30},\n",
              " '1021': {'brand': 'Saffola',\n",
              "  'expiry': '29 jan 2022',\n",
              "  'name': 'Saffola Active',\n",
              "  'price': 207,\n",
              "  'quan': 58},\n",
              " '1022': {'brand': 'Thums Up',\n",
              "  'expiry': '20 dec 2024',\n",
              "  'name': 'Thums Up Soft Drink',\n",
              "  'price': 40,\n",
              "  'quan': 60},\n",
              " '1023': {'brand': 'Svami',\n",
              "  'expiry': '20 jun 2023',\n",
              "  'name': 'Svami Soda Water',\n",
              "  'price': 55,\n",
              "  'quan': 70},\n",
              " '1024': {'brand': 'Coca Cola',\n",
              "  'expiry': '22 jul 2023',\n",
              "  'name': 'Coca-Cola',\n",
              "  'price': 65,\n",
              "  'quan': 60},\n",
              " '1025': {'brand': 'Sprite',\n",
              "  'expiry': '20 nov 2023',\n",
              "  'name': 'Sprite Lime Flavor',\n",
              "  'price': 89,\n",
              "  'quan': 40},\n",
              " '1026': {'brand': 'Colgate',\n",
              "  'expiry': '20 jun 2024',\n",
              "  'name': 'Colgate Maxfresh',\n",
              "  'price': 215,\n",
              "  'quan': 55},\n",
              " '1027': {'brand': 'Pepsodent',\n",
              "  'expiry': '15 jul 2022',\n",
              "  'name': 'Pepsodent Gum Care',\n",
              "  'price': 300,\n",
              "  'quan': 150},\n",
              " '1028': {'brand': 'Ore0',\n",
              "  'expiry': '30 dec 2021',\n",
              "  'name': 'Kraft Oreo Soft Cake',\n",
              "  'price': 249,\n",
              "  'quan': 120},\n",
              " '1029': {'brand': 'Sunfeast',\n",
              "  'expiry': '19 mar 2022',\n",
              "  'name': \"Mom's Magic Cashew\",\n",
              "  'price': 80,\n",
              "  'quan': 180},\n",
              " '1030': {'brand': 'cadbury',\n",
              "  'expiry': '22 jan 2022',\n",
              "  'name': 'cadbury oreo chocolate',\n",
              "  'price': 80,\n",
              "  'quan': 185},\n",
              " '1031': {'brand': 'Himalaya',\n",
              "  'expiry': '31 may 2024',\n",
              "  'name': 'Himalaya Baby Powder',\n",
              "  'price': 243,\n",
              "  'quan': 150},\n",
              " '1032': {'brand': 'Nivea',\n",
              "  'expiry': '31 may 2024',\n",
              "  'name': 'Nivea Talcum Powder',\n",
              "  'price': 199,\n",
              "  'quan': 120},\n",
              " '1033': {'brand': 'FOGG',\n",
              "  'expiry': '01 jan 2024',\n",
              "  'name': 'Fogg Xtremo Scent',\n",
              "  'price': 299,\n",
              "  'quan': 155},\n",
              " '1034': {'brand': 'Villian',\n",
              "  'expiry': '31 may 2024',\n",
              "  'name': 'Villain Perfume men',\n",
              "  'price': 555,\n",
              "  'quan': 230},\n",
              " '1035': {'brand': 'Cadbury',\n",
              "  'expiry': '31 jan 2022',\n",
              "  'name': 'Dairy Milk Silk',\n",
              "  'price': 475,\n",
              "  'quan': 50}}"
            ]
          },
          "metadata": {},
          "execution_count": 33
        }
      ]
    }
  ]
}