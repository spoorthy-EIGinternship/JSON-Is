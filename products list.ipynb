{
  "nbformat": 4,
  "nbformat_minor": 0,
  "metadata": {
    "colab": {
      "name": "Untitled4.ipynb",
      "provenance": []
    },
    "kernelspec": {
      "name": "python3",
      "display_name": "Python 3"
    },
    "language_info": {
      "name": "python"
    }
  },
  "cells": [
    {
      "cell_type": "code",
      "metadata": {
        "id": "XcBn_l-wIrKR"
      },
      "source": [
        "products = {\n",
        "    1001 : {\"name\":\"Betty Croker Pancake\",    \"price\":346,  \"quan\":190, \"expiry\":\"15 jan 2022\",  \"brand\":\"Betty Croker\"},\n",
        "    1002 : {\"name\":\"Parle G Original\",        \"price\":67,   \"quan\":140, \"expiry\":\"13 dec 2011\",  \"brand\":\"Parle\"},\n",
        "    1003 : {\"name\":\"Lays Potato Chips\",       \"price\":30,   \"quan\":450, \"expiry\":\"14 feb 2023\",  \"brand\":\"Lay's\"},\n",
        "    1004 : {\"name\":\"Bingo! Mad Angle\",        \"price\":25,   \"quan\":440, \"expiry\":\"20 dec 2023\",  \"brand\":\"Bingo!\"},\n",
        "    1005 : {\"name\":\"Kellogg's pringles\",      \"price\":85,   \"quan\":400, \"expiry\":\"25 jan 2024\",  \"brand\":\"Kellog's\"},\n",
        "    1006 : {\"name\":\"Dorito's Nacho Chips\",    \"price\":90,   \"quan\":360, \"expiry\":\"22 jan 2023\",  \"brand\":\"Dorito's\"},\n",
        "    1007 : {\"name\":\"Kitkat Desert\",           \"price\":55,   \"quan\":59,  \"expiry\":\"31 aug 2022\",  \"brand\":\"Nestle\"},\n",
        "    1008 : {\"name\":\"Dark Fantasy Choco Fills\",\"price\":90,   \"quan\":90,  \"expiry\":\"21 feb 2022\",  \"brand\":\"Dark Fantasy\"},\n",
        "    1009 : {\"name\":\"Candyman Fantasy\",        \"price\":80,   \"quan\":95,  \"expiry\":\"28 dec 2021\",  \"brand\":\"Candyman Fantastik\"},\n",
        "    1010 : {\"name\":\"Lotte Choco Pie\",         \"price\":110,  \"quan\":95,  \"expiry\":\"01 jun 2022\",  \"brand\":\"Lotte\"},\n",
        "    1011 : {\"name\":\"Britania Chocolate cake\", \"price\":120,  \"quan\":100, \"expiry\":\"15 jul 2022\",  \"brand\":\"Britania\"},\n",
        "    1012 : {\"name\":\"Pillsbury cookes cake\",   \"price\":90,   \"quan\":200, \"expiry\":\"02 dec 2021\",  \"brand\":\"Pillsbury\"},\n",
        "    1013 : {\"name\":\"Dabur Amla Hair Oil\",     \"price\":247,  \"quan\":100, \"expiry\":\"10 aug 2024\",  \"brand\":\"DABUR\"},\n",
        "    1014 : {\"name\":\"Nivea Men Face Wash\",     \"price\":149,  \"quan\":98,  \"expiry\":\"31 jul 2022\",  \"brand\":\"Nivea\"},\n",
        "    1015 : {\"name\":\"Himalaya herbal face wash\",  \"price\":105,   \"quan\":200, \"expiry\":\"22 feb 2022\",  \"brand\":\"himalaya\"},\n",
        "    1016 : {\"name\":\"Pepsi Can\",               \"price\":153,  \"quan\":50,  \"expiry\":\"20 oct 2023\",  \"brand\":\"Pepsi\"},\n",
        "    1017 : {\"name\":\"Tata Salt\",               \"price\":20,   \"quan\":130, \"expiry\":\"12 jan 2022\",  \"brand\":\"Tata\"},\n",
        "    1018 : {\"name\":\"Tata Tea Gold\",           \"price\":48,   \"quan\":145, \"expiry\":\"10 mar 2023\",  \"brand\":\"Tata\"},\n",
        "    1019 : {\"name\":\"Turmeric Powder\",         \"price\":52,   \"quan\":122, \"expiry\":\"23 jun 2023\",  \"brand\":\"Tata\"},\n",
        "    1020 : {\"name\":\"Quaker Oats\",             \"price\":285,  \"quan\":30,  \"expiry\":\"30 oct 2022\",  \"brand\":\"Quaker\"},\n",
        "    1021 : {\"name\":\"Saffola Active\",          \"price\":207,  \"quan\":58,  \"expiry\":\"29 jan 2022\",  \"brand\":\"Saffola\"},\n",
        "    1022 : {\"name\":\"Thums Up Soft Drink\",     \"price\":40,   \"quan\":60,  \"expiry\":\"20 dec 2024\",  \"brand\":\"Thums Up\"},\n",
        "    1023 : {\"name\":\"Svami Soda Water\",        \"price\":55,   \"quan\":70,  \"expiry\":\"20 jun 2023\",  \"brand\":\"Svami\"},\n",
        "    1024 : {\"name\":\"Coca-Cola\",               \"price\":65,   \"quan\":60,  \"expiry\":\"22 jul 2023\",  \"brand\":\"Coca Cola\"},\n",
        "    1025 : {\"name\":\"Sprite Lime Flavor\",      \"price\":89,   \"quan\":40,  \"expiry\":\"20 nov 2023\",  \"brand\":\"Sprite\"},\n",
        "    1026 : {\"name\":\"Colgate Maxfresh\",        \"price\":215,  \"quan\":55,  \"expiry\":\"20 jun 2024\",  \"brand\":\"Colgate\"},\n",
        "    1027 : {\"name\":\"Pepsodent Gum Care\",      \"price\":300,  \"quan\":150, \"expiry\":\"15 jul 2022\",  \"brand\":\"Pepsodent\"},\n",
        "    1028 : {\"name\":\"Kraft Oreo Soft Cake\",    \"price\":249,  \"quan\":120, \"expiry\":\"30 dec 2021\",  \"brand\":\"Ore0\"},\n",
        "    1029 : {\"name\":\"Mom's Magic Cashew\",      \"price\":80,   \"quan\":180, \"expiry\":\"19 mar 2022\",  \"brand\":\"Sunfeast\"},\n",
        "    1030 : {\"name\":\"cadbury oreo chocolate\",\"price\":80, \"quan\":185, \"expiry\":\"22 jan 2022\",  \"brand\":\"cadbury\"},\n",
        "    1031 : {\"name\":\"Himalaya Baby Powder\",    \"price\":243,  \"quan\":150, \"expiry\":\"31 may 2024\",  \"brand\":\"Himalaya\"},\n",
        "    1032 : {\"name\":\"Nivea Talcum Powder\",     \"price\":199,  \"quan\":120, \"expiry\":\"31 may 2024\",  \"brand\":\"Nivea\"},\n",
        "    1033 : {\"name\":\"Fogg Xtremo Scent\",       \"price\":299,  \"quan\":155, \"expiry\":\"01 jan 2024\",  \"brand\":\"FOGG\"},\n",
        "    1034 : {\"name\":\"Villain Perfume men\",     \"price\":555,  \"quan\":230, \"expiry\":\"31 may 2024\",  \"brand\":\"Villian\"},\n",
        "    1035 : {\"name\":\"Dairy Milk Silk\",         \"price\":475,  \"quan\":50,  \"expiry\":\"31 jan 2022\",  \"brand\":\"Cadbury\"}\n",
        "}"
      ],
      "execution_count": 2,
      "outputs": []
    }
  ]
}